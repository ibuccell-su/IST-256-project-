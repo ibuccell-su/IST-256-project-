#import neccesary dependencies
import tweepy
import json

artists = input("Enter a Celebrity's twitter handle: ")


#establish Twiter Oauth parameters
CONSUMER_KEY = '9JLPn28yuQnldrcIh3oVbyG5V'
CONSUMER_SECRET = 'UDqU7RKKCGHox6MkXrGBVrvYKtLwpR0Yb98nP88aq3a5Jlz1yO'
OAUTH_TOKEN = '406747577-f7ya2OVO7n2FLtm6L77pQK4rO6zJanISQfLMWV4W'
OAUTH_SECRET = 'TFu6BRcXL2leWgQEZRALO2vAaupLQEWiOXYxco9i4ooZk'

#establish tweepy authorization
auth = tweepy.OAuthHandler(CONSUMER_KEY,CONSUMER_SECRET)
auth.set_access_token(OAUTH_TOKEN,OAUTH_SECRET)
api = tweepy.API(auth)

#get twitter user by username
kanye = api.get_user('kanyewest')
taylor = api.get_user('taylorswift13')
ariana = api.get_user('ArianaGrande')
artist = api.get_user(artists)

#assign twitter json item
kanye_json = kanye._json
taylor_json = taylor._json
ariana_json = ariana._json
artist_json = artist._json

#use twitter api to gather last 60 tweets,
kanye_timeline = api.user_timeline('kanyewest', count = 60)
#assign list based on timeline
kanye_list = list(kanye_timeline)
#assign tweet to first list item
tweet = kanye_list[0]
#assign twitter json object
tweet_json = tweet._json

#use twitter api to gather last 60 tweets,
taylor_timeline = api.user_timeline('taylorswift13', count =60)
#assign list based on timeline
taylor_list = list(taylor_timeline)
#assign tweet to first list item
tweet = taylor_list[0]
#assign twitter json object
tweet_json = tweet._json


#use twitter api to gather last 60 tweets,
ariana_timeline = api.user_timeline('ArianaGrande', count =60)
#assign list based on timeline
ariana_list = list(ariana_timeline)
#assign tweet to first list item
tweet = ariana_list[0]
#assign twitter json object
tweet_json = tweet._json

#use twitter api to gather last 60 tweets,
artist_timeline = api.user_timeline(artists, count =60)
#assign list based on timeline
artist_list = list(artist_timeline)
#assign tweet to first list item
tweet = artist_list[0]
#assign twitter json object
tweet_json = tweet._json

#Convert list to integer value to iterate and find the sum of the RT values for taylor
sum = 0
for doc in taylor_list:
    sum += int(doc._json['retweet_count'])
#print( sum / 60)

#Convert list to integer value to iterate and find the sum of the favorite values for taylor
suma = 0
for doc in taylor_list:
    suma += int(doc._json['favorite_count'])
#print (suma / 60)
#Convert list to integer value to iterate and find the sum of the RT values for kanye
sumb = 0
for doc in kanye_list:
    sumb += int(doc._json['retweet_count'])
#print (sumb / 60)

#Convert list to integer value to iterate and find the sum of the favorite values for kanye
sumc = 0
for doc in kanye_list:
    sumc += int(doc._json['favorite_count'])
#print (sumc / 60)

#Convert list to integer value to iterate and find the sum of the RT values for kanye
sumd = 0
for doc in ariana_list:
    sumd += int(doc._json['retweet_count'])
#print (sumb / 60)

#Convert list to integer value to iterate and find the sum of the favorite values for kanye
sume = 0
for doc in ariana_list:
    sume += int(doc._json['favorite_count'])
#print (sumc / 60)

sumf = 0
for doc in artist_list:
    sumf += int(doc._json['retweet_count'])
#print (sumf / 60)

#Convert list to integer value to iterate and find the sum of the favorite values for kanye
sumg = 0
for doc in artist_list:
    sumg += int(doc._json['favorite_count'])
#print (sumc / 60)



#print the sum divided by the count
print("The average ReTweets for Taylor Swift were:", sum / 60)
print("The average favorites for Taylor Swift were:", suma / 60 )
print("The average ReTweets for Kanye West were:", sumb / 60)
print("The average favorites for Kanye West were:", sumc / 60)
print("The average ReTweets for Ariana Grande were:", sumd / 60)
print("The average favorites for Ariana Grande were:", sume / 60 )
print("The average ReTweets for your celebrity were:", sumf / 60)
print("The average favorites for your celebrity were:", sumg / 60 )
