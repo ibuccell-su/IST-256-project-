{
 "cells": [
  {
   "cell_type": "code",
   "execution_count": 4,
   "metadata": {},
   "outputs": [
    {
     "name": "stdout",
     "output_type": "stream",
     "text": [
      "Enter an artist's twitter handle: migos\n"
     ]
    }
   ],
   "source": []
  },
  {
   "cell_type": "code",
   "execution_count": 6,
   "metadata": {},
   "outputs": [
    {
     "name": "stdout",
     "output_type": "stream",
     "text": [
      "Enter an artist's twitter handle: migos\n",
      "The average RT for Taylor Swift were: 11528.866666666667\n",
      "The average favorites for Taylor Swift were: 41196.78333333333\n",
      "The average RT for Kanye West were: 11156.933333333332\n",
      "The average favorites for Kanye West were: 49735.6\n",
      "The average RT for Ariana Grande were: 16133.966666666667\n",
      "The average favorites for Ariana Grande were: 77815.88333333333\n",
      "The average RT for your Artist were: 1548.1666666666667\n",
      "The average favorites for your Artist were: 2682.4166666666665\n"
     ]
    }
   ],
   "source": [
    "#import neccesary dependencies\n",
    "import tweepy\n",
    "import json\n",
    "\n",
    "artists = input(\"Enter your celebrity's twitter handle: \")\n",
    "\n",
    "\n",
    "#establish Twiter Oauth parameters\n",
    "CONSUMER_KEY = '9JLPn28yuQnldrcIh3oVbyG5V'\n",
    "CONSUMER_SECRET = 'UDqU7RKKCGHox6MkXrGBVrvYKtLwpR0Yb98nP88aq3a5Jlz1yO'\n",
    "OAUTH_TOKEN = '406747577-f7ya2OVO7n2FLtm6L77pQK4rO6zJanISQfLMWV4W'\n",
    "OAUTH_SECRET = 'TFu6BRcXL2leWgQEZRALO2vAaupLQEWiOXYxco9i4ooZk'\n",
    "\n",
    "#establish tweepy authorization\n",
    "auth = tweepy.OAuthHandler(CONSUMER_KEY,CONSUMER_SECRET)\n",
    "auth.set_access_token(OAUTH_TOKEN,OAUTH_SECRET)\n",
    "api = tweepy.API(auth)\n",
    "\n",
    "#get twitter user by username\n",
    "kanye = api.get_user('kanyewest')\n",
    "taylor = api.get_user('taylorswift13')\n",
    "ariana = api.get_user('ArianaGrande')\n",
    "artist = api.get_user(artists)\n",
    "\n",
    "#assign twitter json item\n",
    "kanye_json = kanye._json\n",
    "taylor_json = taylor._json\n",
    "ariana_json = ariana._json\n",
    "artist_json = artist._json\n",
    "\n",
    "#use twitter api to gather last 60 tweets,\n",
    "kanye_timeline = api.user_timeline('kanyewest', count = 60)\n",
    "#assign list based on timeline\n",
    "kanye_list = list(kanye_timeline)\n",
    "#assign tweet to first list item\n",
    "tweet = kanye_list[0]\n",
    "#assign twitter json object\n",
    "tweet_json = tweet._json\n",
    "\n",
    "#use twitter api to gather last 60 tweets,\n",
    "taylor_timeline = api.user_timeline('taylorswift13', count =60)\n",
    "#assign list based on timeline\n",
    "taylor_list = list(taylor_timeline)\n",
    "#assign tweet to first list item\n",
    "tweet = taylor_list[0]\n",
    "#assign twitter json object\n",
    "tweet_json = tweet._json\n",
    "\n",
    "\n",
    "#use twitter api to gather last 60 tweets,\n",
    "ariana_timeline = api.user_timeline('ArianaGrande', count =60)\n",
    "#assign list based on timeline\n",
    "ariana_list = list(ariana_timeline)\n",
    "#assign tweet to first list item\n",
    "tweet = ariana_list[0]\n",
    "#assign twitter json object\n",
    "tweet_json = tweet._json\n",
    "\n",
    "#use twitter api to gather last 60 tweets,\n",
    "artist_timeline = api.user_timeline(artists, count =60)\n",
    "#assign list based on timeline\n",
    "artist_list = list(artist_timeline)\n",
    "#assign tweet to first list item\n",
    "tweet = artist_list[0]\n",
    "#assign twitter json object\n",
    "tweet_json = tweet._json\n",
    "\n",
    "#Convert list to integer value to iterate and find the sum of the retweet values for taylor\n",
    "sum = 0\n",
    "for doc in taylor_list:\n",
    "    sum += int(doc._json['retweet_count'])\n",
    "#print( sum / 60)\n",
    "\n",
    "#Convert list to integer value to iterate and find the sum of the favorite values for taylor\n",
    "suma = 0\n",
    "for doc in taylor_list:\n",
    "    suma += int(doc._json['favorite_count'])\n",
    "#print (suma / 60)\n",
    "#Convert list to integer value to iterate and find the sum of the retweet values for kanye\n",
    "sumb = 0\n",
    "for doc in kanye_list:\n",
    "    sumb += int(doc._json['retweet_count'])\n",
    "#print (sumb / 60)\n",
    "\n",
    "#Convert list to integer value to iterate and find the sum of the favorite values for kanye\n",
    "sumc = 0\n",
    "for doc in kanye_list:\n",
    "    sumc += int(doc._json['favorite_count'])\n",
    "#print (sumc / 60)\n",
    "\n",
    "#Convert list to integer value to iterate and find the sum of the retweet values for kanye\n",
    "sumd = 0\n",
    "for doc in ariana_list:\n",
    "    sumd += int(doc._json['retweet_count'])\n",
    "#print (sumb / 60)\n",
    "\n",
    "#Convert list to integer value to iterate and find the sum of the favorite values for kanye\n",
    "sume = 0\n",
    "for doc in ariana_list:\n",
    "    sume += int(doc._json['favorite_count'])\n",
    "#print (sumc / 60)\n",
    "\n",
    "sumf = 0\n",
    "for doc in artist_list:\n",
    "    sumf += int(doc._json['retweet_count'])\n",
    "#print (sumb / 60)\n",
    "\n",
    "#Convert list to integer value to iterate and find the sum of the favorite values for kanye\n",
    "sumg = 0\n",
    "for doc in artist_list:\n",
    "    sumg += int(doc._json['favorite_count'])\n",
    "#print (sumc / 60)\n",
    "\n",
    "\n",
    "\n",
    "#print the sum divided by the count\n",
    "print(\"The average retweet for Taylor Swift were:\", sum / 60)\n",
    "print(\"The average favorites for Taylor Swift were:\", suma / 60 )\n",
    "print(\"The average retweet for Kanye West were:\", sumb / 60)\n",
    "print(\"The average favorites for Kanye West were:\", sumc / 60)\n",
    "print(\"The average retweet for Ariana Grande were:\", sumd / 60)\n",
    "print(\"The average favorites for Ariana Grande were:\", sume / 60 )\n",
    "print(\"The average retweet for your Artist were:\", sumf / 60)\n",
    "print(\"The average favorites for your Artist were:\", sumg / 60 )\n"
   ]
  },
  {
   "cell_type": "code",
   "execution_count": 35,
   "metadata": {},
   "outputs": [],
   "source": []
  },
  {
   "cell_type": "code",
   "execution_count": null,
   "metadata": {},
   "outputs": [],
   "source": [
    "\n"
   ]
  },
  {
   "cell_type": "code",
   "execution_count": 37,
   "metadata": {},
   "outputs": [],
   "source": []
  },
  {
   "cell_type": "code",
   "execution_count": 38,
   "metadata": {},
   "outputs": [],
   "source": []
  },
  {
   "cell_type": "code",
   "execution_count": 39,
   "metadata": {},
   "outputs": [],
   "source": []
  },
  {
   "cell_type": "code",
   "execution_count": 40,
   "metadata": {},
   "outputs": [],
   "source": []
  },
  {
   "cell_type": "code",
   "execution_count": 41,
   "metadata": {},
   "outputs": [],
   "source": []
  },
  {
   "cell_type": "code",
   "execution_count": 42,
   "metadata": {},
   "outputs": [],
   "source": []
  },
  {
   "cell_type": "code",
   "execution_count": 43,
   "metadata": {},
   "outputs": [],
   "source": []
  },
  {
   "cell_type": "code",
   "execution_count": 44,
   "metadata": {},
   "outputs": [],
   "source": []
  },
  {
   "cell_type": "code",
   "execution_count": 45,
   "metadata": {},
   "outputs": [],
   "source": []
  },
  {
   "cell_type": "code",
   "execution_count": 46,
   "metadata": {},
   "outputs": [],
   "source": []
  },
  {
   "cell_type": "code",
   "execution_count": 47,
   "metadata": {},
   "outputs": [],
   "source": []
  },
  {
   "cell_type": "code",
   "execution_count": 48,
   "metadata": {},
   "outputs": [
    {
     "ename": "AttributeError",
     "evalue": "'Status' object has no attribute 'json'",
     "output_type": "error",
     "traceback": [
      "\u001b[0;31m---------------------------------------------------------------------------\u001b[0m",
      "\u001b[0;31mAttributeError\u001b[0m                            Traceback (most recent call last)",
      "\u001b[0;32m<ipython-input-48-82c3328ac655>\u001b[0m in \u001b[0;36m<module>\u001b[0;34m()\u001b[0m\n\u001b[1;32m      1\u001b[0m \u001b[0msum\u001b[0m \u001b[0;34m=\u001b[0m \u001b[0;36m0\u001b[0m\u001b[0;34m\u001b[0m\u001b[0m\n\u001b[1;32m      2\u001b[0m \u001b[0;32mfor\u001b[0m \u001b[0mdoc\u001b[0m \u001b[0;32min\u001b[0m \u001b[0mkanye_list\u001b[0m\u001b[0;34m:\u001b[0m\u001b[0;34m\u001b[0m\u001b[0m\n\u001b[0;32m----> 3\u001b[0;31m     \u001b[0msum\u001b[0m \u001b[0;34m+=\u001b[0m \u001b[0mint\u001b[0m\u001b[0;34m(\u001b[0m\u001b[0mdoc\u001b[0m\u001b[0;34m.\u001b[0m\u001b[0mjson\u001b[0m\u001b[0;34m[\u001b[0m\u001b[0;34m'retweet_count'\u001b[0m\u001b[0;34m]\u001b[0m\u001b[0;34m)\u001b[0m\u001b[0;34m\u001b[0m\u001b[0m\n\u001b[0m\u001b[1;32m      4\u001b[0m \u001b[0mprint\u001b[0m\u001b[0;34m(\u001b[0m\u001b[0msum\u001b[0m\u001b[0;34m/\u001b[0m\u001b[0;36m60\u001b[0m\u001b[0;34m)\u001b[0m\u001b[0;34m\u001b[0m\u001b[0m\n",
      "\u001b[0;31mAttributeError\u001b[0m: 'Status' object has no attribute 'json'"
     ]
    }
   ],
   "source": []
  },
  {
   "cell_type": "code",
   "execution_count": null,
   "metadata": {},
   "outputs": [],
   "source": []
  }
 ],
 "metadata": {
  "kernelspec": {
   "display_name": "Python 3",
   "language": "python",
   "name": "python3"
  },
  "language_info": {
   "codemirror_mode": {
    "name": "ipython",
    "version": 3
   },
   "file_extension": ".py",
   "mimetype": "text/x-python",
   "name": "python",
   "nbconvert_exporter": "python",
   "pygments_lexer": "ipython3",
   "version": "3.6.3"
  }
 },
 "nbformat": 4,
 "nbformat_minor": 2
}
