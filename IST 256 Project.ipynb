{
 "cells": [
  {
   "cell_type": "code",
   "execution_count": null,
   "metadata": {},
   "outputs": [],
   "source": []
  },
  {
   "cell_type": "code",
   "execution_count": 1,
   "metadata": {},
   "outputs": [
    {
     "ename": "SyntaxError",
     "evalue": "invalid syntax (<ipython-input-1-94f0facd9f78>, line 8)",
     "output_type": "error",
     "traceback": [
      "\u001b[0;36m  File \u001b[0;32m\"<ipython-input-1-94f0facd9f78>\"\u001b[0;36m, line \u001b[0;32m8\u001b[0m\n\u001b[0;31m    response = requests.get(\"https://cosmin-us-phone-number-lookup.p.mashape.com/get.php\", params=params, headers=headers )\u001b[0m\n\u001b[0m           ^\u001b[0m\n\u001b[0;31mSyntaxError\u001b[0m\u001b[0;31m:\u001b[0m invalid syntax\n"
     ]
    }
   ],
   "source": [
    "import requests\n",
    "import json\n",
    "response = unirest.get(\"https://seevl.p.mashape.com/entities/RkMQZrfG/infos\",\n",
    "  headers={\n",
    "    \"X-Mashape-Key\": \"8Sgx93D9znmshMsKyfmjKLjY9aqCp1h2G3IjsnypQ7pNzIwWWS\",\n",
    "    \"Accept\": \"application/json\"}\n",
    "response = requests.get(\"https://cosmin-us-phone-number-lookup.p.mashape.com/get.php\", params=params, headers=headers )\n",
    "                       \n",
    "response = unirest.get(\"https://seevl.p.mashape.com/entities/RkMQZrfG/infos\",\n",
    "  headers={\n",
    "    \"X-Mashape-Key\": \"8Sgx93D9znmshMsKyfmjKLjY9aqCp1h2G3IjsnypQ7pNzIwWWS\",\n",
    "    \"Accept\": \"application/json\"}\n",
    "response = requests.get(\"https://cosmin-us-phone-number-lookup.p.mashape.com/get.php\", params=params, headers=headers )\n",
    ")\n",
    "\n",
    "{\n",
    "  \"a\": [\n",
    "    \"Group\",\n",
    "    \"Artist\"\n",
    "  ],\n",
    "  \"description\": {\n",
    "    \"value\": \"<p><strong>Social Distortion</strong> is an American punk rock band formed in 1978 in Fullerton, California. The band currently consists of Mike Ness (lead vocals, lead guitar), Jonny Wickersham (rhythm guitar, backing vocals), Brent Harding (bass, backing vocals), and David Hidalgo, Jr. (drums).</p><p>Social Distortion went on a temporary hiatus in the mid-1980s, due to frontman Ness' drug addiction and troubles with the law which resulted in extended stints in various rehabilitation centers that lasted for two years. Since its inception, the band lineup has been a virtual revolving-door of talent with many members coming and going - Ness has been the only constant member. After  years of performing, Social Distortion continues to tour and record music. </p><p>To date, Social Distortion has released seven full-length studio albums, two compilations, one live album, and two DVDs. They released two albums — <em>Mommy's Little Monster</em> (1983) and <em>Prison Bound</em> (1988) — before signing a three-album contract with Epic Records in 1989. Social Distortion rose to fame with their 1990 self-titled third album, which produced their well-known hit singles \\\"Ball and Chain\\\", \\\"Story of My Life\\\", and the cover of Johnny Cash's \\\"Ring of Fire\\\", and was certified gold by RIAA. Many of their later albums, including their second gold record <em>Somewhere Between Heaven and Hell</em> (1992), were also well received. They are considered one of the best-selling punk rock bands, with more than three million albums sold worldwide. Social Distortion is currently working on an eighth studio album, which they plan to release in 2014.</p>\"\n",
    "  },\n",
    "  \"id\": \"RkMQZrfG\",\n",
    "  \"prefLabel\": \"Social Distortion\",\n",
    "  \"uri\": \"http://data.seevl.net/entity/RkMQZrfG#id\"\n",
    "}"
   ]
  },
  {
   "cell_type": "code",
   "execution_count": null,
   "metadata": {},
   "outputs": [],
   "source": []
  }
 ],
 "metadata": {
  "kernelspec": {
   "display_name": "Python 3",
   "language": "python",
   "name": "python3"
  },
  "language_info": {
   "codemirror_mode": {
    "name": "ipython",
    "version": 3
   },
   "file_extension": ".py",
   "mimetype": "text/x-python",
   "name": "python",
   "nbconvert_exporter": "python",
   "pygments_lexer": "ipython3",
   "version": "3.6.3"
  }
 },
 "nbformat": 4,
 "nbformat_minor": 2
}
